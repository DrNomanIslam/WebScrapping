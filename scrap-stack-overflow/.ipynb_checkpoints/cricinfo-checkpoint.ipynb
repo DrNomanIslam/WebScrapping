{
 "cells": [
  {
   "cell_type": "code",
   "execution_count": 1,
   "metadata": {
    "collapsed": true
   },
   "outputs": [],
   "source": [
    "url = 'http://www.espncricinfo.com/rankings/content/page/211271.html'"
   ]
  },
  {
   "cell_type": "code",
   "execution_count": 2,
   "metadata": {
    "collapsed": true
   },
   "outputs": [],
   "source": [
    "from requests import get\n",
    "from bs4 import BeautifulSoup"
   ]
  },
  {
   "cell_type": "code",
   "execution_count": 3,
   "metadata": {
    "collapsed": true
   },
   "outputs": [],
   "source": [
    "response = get(url)"
   ]
  },
  {
   "cell_type": "code",
   "execution_count": 4,
   "metadata": {
    "collapsed": true
   },
   "outputs": [],
   "source": [
    "html_soup = BeautifulSoup(response.text, 'html.parser')"
   ]
  },
  {
   "cell_type": "code",
   "execution_count": 51,
   "metadata": {},
   "outputs": [],
   "source": [
    "ranking = html_soup.find_all('table', class_ = 'StoryengineTable')\n",
    "format=html_soup.find_all('div' , class_=\"ciPhotoContainer\")[0].find_all('h3')"
   ]
  },
  {
   "cell_type": "code",
   "execution_count": 54,
   "metadata": {},
   "outputs": [
    {
     "name": "stdout",
     "output_type": "stream",
     "text": [
      "ICC Test Championship\n",
      "23 July 2018\n",
      "Team                 Matches              Points               Rating               \n",
      "India                29                   3634                 125                  \n",
      "South Africa         35                   3712                 106                  \n",
      "Australia            33                   3499                 106                  \n",
      "New Zealand          23                   2354                 102                  \n",
      "England              39                   3769                 97                   \n",
      "Sri Lanka            38                   3668                 97                   \n",
      "Pakistan             21                   1853                 88                   \n",
      "West Indies          29                   2235                 77                   \n",
      "Bangladesh           19                   1268                 67                   \n",
      "Zimbabwe             8                    12                   2                    \n",
      "\n",
      "\n",
      "\n",
      "ICC ODI Championship\n",
      "23 July 2018\n",
      "Team                 Matches              Points               Rating               \n",
      "England              51                   6470                 127                  \n",
      "India                48                   5819                 121                  \n",
      "South Africa         36                   4095                 114                  \n",
      "New Zealand          41                   4602                 112                  \n",
      "Pakistan             37                   3844                 104                  \n",
      "Australia            37                   3699                 100                  \n",
      "Bangladesh           27                   2477                 92                   \n",
      "Sri Lanka            45                   3428                 76                   \n",
      "West Indies          32                   2217                 69                   \n",
      "Afghanistan          28                   1758                 63                   \n",
      "Zimbabwe             42                   2242                 53                   \n",
      "Ireland              20                   766                  38                   \n",
      "Scotland             16                   535                  33                   \n",
      "UAE                  13                   236                  18                   \n",
      "\n",
      "\n",
      "\n",
      "ICC Twenty20 Championship\n",
      "23 July 2018\n",
      "Team                 Matches              Points               Rating               \n",
      "Pakistan             30                   3972                 132                  \n",
      "India                36                   4468                 124                  \n",
      "Australia            21                   2570                 122                  \n",
      "England              21                   2448                 117                  \n",
      "New Zealand          22                   2542                 116                  \n",
      "South Africa         18                   2058                 114                  \n",
      "West Indies          19                   2172                 114                  \n",
      "Afghanistan          25                   2287                 91                   \n",
      "Sri Lanka            27                   2287                 85                   \n",
      "Bangladesh           25                   1746                 70                   \n",
      "Scotland             15                   927                  62                   \n",
      "Zimbabwe             18                   1006                 56                   \n",
      "UAE                  12                   608                  51                   \n",
      "Netherlands          12                   598                  50                   \n",
      "Hong Kong            10                   420                  42                   \n",
      "Oman                 7                    270                  39                   \n",
      "Ireland              16                   564                  35                   \n",
      "Nepal                4                    105                  26                   \n",
      "\n",
      "\n",
      "\n",
      "ICC Women's Team Rankings\n",
      "23 July 2018\n",
      "Team                 Matches              Points               Rating               \n",
      "Australia Women      55                   7284                 132                  \n",
      "England Women        60                   7580                 126                  \n",
      "New Zealand Women    68                   8137                 120                  \n",
      "India Women          66                   7396                 112                  \n",
      "West Indies Women    48                   4725                 98                   \n",
      "South Africa Women   77                   7320                 95                   \n",
      "Pakistan Women       55                   4081                 74                   \n",
      "Sri Lanka Women      55                   3416                 62                   \n",
      "Bangladesh Women     34                   1432                 42                   \n",
      "Ireland Women        23                   638                  28                   \n",
      "\n",
      "\n",
      "\n"
     ]
    }
   ],
   "source": [
    "for i,r in enumerate(ranking):\n",
    "    print(format[i].text)\n",
    "    print(ranking[0].caption.text)  \n",
    "    tr = r.find_all('tr')\n",
    "    i=0\n",
    "    for t in tr:\n",
    "        if(i==0):\n",
    "            search=\"th\"\n",
    "        else:\n",
    "            search=\"td\"\n",
    "            \n",
    "        for c in t.findChildren(search):\n",
    "            print('{:20}'.format(c.text), end=\" \")                \n",
    "        print()\n",
    "        i+=1\n",
    "    print(\"\\n\\n\")"
   ]
  },
  {
   "cell_type": "code",
   "execution_count": null,
   "metadata": {
    "collapsed": true
   },
   "outputs": [],
   "source": []
  }
 ],
 "metadata": {
  "kernelspec": {
   "display_name": "Python 3",
   "language": "python",
   "name": "python3"
  },
  "language_info": {
   "codemirror_mode": {
    "name": "ipython",
    "version": 3
   },
   "file_extension": ".py",
   "mimetype": "text/x-python",
   "name": "python",
   "nbconvert_exporter": "python",
   "pygments_lexer": "ipython3",
   "version": "3.7.3"
  }
 },
 "nbformat": 4,
 "nbformat_minor": 1
}
