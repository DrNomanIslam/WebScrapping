{
 "cells": [
  {
   "cell_type": "code",
   "execution_count": 1,
   "metadata": {},
   "outputs": [],
   "source": [
    "from bs4 import BeautifulSoup\n",
    "from requests import get"
   ]
  },
  {
   "cell_type": "code",
   "execution_count": 2,
   "metadata": {},
   "outputs": [],
   "source": [
    "url = \"https://stackoverflow.com/questions/72100190/how-to-safely-comment-php-inside-javascript\""
   ]
  },
  {
   "cell_type": "code",
   "execution_count": 3,
   "metadata": {},
   "outputs": [],
   "source": [
    "response = get(url)\n",
    "doc = BeautifulSoup(response.text,'html.parser')"
   ]
  },
  {
   "cell_type": "code",
   "execution_count": 4,
   "metadata": {},
   "outputs": [],
   "source": [
    "from pprint import pprint"
   ]
  },
  {
   "cell_type": "code",
   "execution_count": 5,
   "metadata": {},
   "outputs": [
    {
     "name": "stdout",
     "output_type": "stream",
     "text": [
      "('<!DOCTYPE html>\\n'\n",
      " '<html class=\"html__responsive\" lang=\"en\">\\n'\n",
      " ' <head>\\n'\n",
      " '  <title>\\n'\n",
      " '   How to safely comment PHP inside JavaScript? - Stack Overflow\\n'\n",
      " '  </title>\\n'\n",
      " '  <link '\n",
      " 'href=\"https://cdn.sstatic.net/Sites/stackoverflow/Img/favicon.ico?v=ec617d715196\" '\n",
      " 'rel=\"shortcut icon\"/>\\n'\n",
      " '  <link '\n",
      " 'href=\"https://cdn.sstatic.net/Sites/stackoverflow/Img/apple-touch-icon.png?v=c78bd457575a\" '\n",
      " 'rel=\"apple-touch-icon\"/>\\n'\n",
      " '  <link '\n",
      " 'href=\"https://cdn.sstatic.net/Sites/stackoverflow/Img/apple-touch-icon.png?v=c78bd457575a\" '\n",
      " 'rel=\"image_src\"/>\\n'\n",
      " '  <link href=\"/opensearch.xml\" rel=\"search\" title=\"Stack Overflow\" '\n",
      " 'type=\"application/opensearchdescription+xml\"/>\\n'\n",
      " '  <link '\n",
      " 'href=\"https://stackoverflow.com/questions/72100190/how-to-safely-comment-php-inside-javascript\" '\n",
      " 'rel=\"canonical\">\\n'\n",
      " '   <meta content=\"width=device-width, height=device-height, '\n",
      " 'initial-scale=1.0, minimum-scale=1.0\" name=\"viewport\"/>\\n'\n",
      " '   <meta content=\"website\" property=\"og:type\">\\n'\n",
      " '    <meta '\n",
      " 'content=\"https://stackoverflow.com/questions/72100190/how-to-safely-comment-php-inside-javascript\" '\n",
      " 'property=\"og:url\"/>\\n'\n",
      " '    <meta content=\"Stack Overflow\" property=\"og:site_name\"/>\\n'\n",
      " '    <meta '\n",
      " 'content=\"https://cdn.sstatic.net/Sites/stackoverflow/Img/apple-touch-icon@2.png?v=73d79a89bded\" '\n",
      " 'itemprop=\"image primaryImageOfPage\" property=\"og:image\"/>\\n'\n",
      " '    <meta content=\"summary\" name=\"twitter:card\"/>\\n'\n",
      " '    <meta content=\"stackoverflow.com\" name=\"twitter:domain\"/>\\n'\n",
      " '    <meta content=\"How to safely comment PHP inside JavaScript?\" '\n",
      " 'itemprop=\"name\" name=\"twitter:title\" property=\"og:title\"/>\\n'\n",
      " '    <meta content=\"How can I comment the following code?\\n'\n",
      " 'function test() {\\n'\n",
      " '    object.test(&amp;quot;&amp;lt;?php echo get_test(); ?&amp;gt;&amp;quot;, '\n",
      " '&amp;quot;anotherTest_&amp;lt;?php echo $testID; ?&amp;gt;&amp;quot;, '\n",
      " '&amp;quot;&amp;lt;?php echo $still...\" itemprop=\"description\" '\n",
      " 'name=\"twitter:description\" property=\"og:description\"/>\\n'\n",
      " '    <script id=\"webpack-public-path\" type=\"text/uri-list\">\\n'\n",
      " '     https://cdn.sstatic.net/\\n'\n",
      " '    </script>\\n'\n",
      " '    <script src=\"https://ajax.googleapis.com/ajax/libs/jquery/1.1')\n"
     ]
    }
   ],
   "source": [
    "pprint(doc.prettify()[:2000])"
   ]
  },
  {
   "cell_type": "code",
   "execution_count": 6,
   "metadata": {},
   "outputs": [
    {
     "data": {
      "text/plain": [
       "<title>How to safely comment PHP inside JavaScript? - Stack Overflow</title>"
      ]
     },
     "execution_count": 6,
     "metadata": {},
     "output_type": "execute_result"
    }
   ],
   "source": [
    "doc.title"
   ]
  },
  {
   "cell_type": "code",
   "execution_count": 7,
   "metadata": {},
   "outputs": [],
   "source": [
    "post = doc.find('div',{'class':'post-layout--right'})"
   ]
  },
  {
   "cell_type": "code",
   "execution_count": 8,
   "metadata": {},
   "outputs": [],
   "source": [
    "question = post.find(\"div\", {\"class\": \"s-prose js-post-body\"})"
   ]
  },
  {
   "cell_type": "code",
   "execution_count": 9,
   "metadata": {},
   "outputs": [
    {
     "data": {
      "text/plain": [
       "'How can I comment the following code?\\nfunction test() {\\n    object.test(\"<?php echo get_test(); ?>\", \"anotherTest_<?php echo $testID; ?>\", \"<?php echo $stillTest; ?>\", \"10\", \"20\", \"<?php echo get_sample(); ?>\", variables, params, attributes);\\n}\\n\\nI tried with\\n/*\\nfunction test() {\\n    object.test(\"<?php echo get_test(); ?>\", \"anotherTest_<?php echo $testID; ?>\", \"<?php echo $stillTest; ?>\", \"10\", \"20\", \"<?php echo get_sample(); ?>\", variables, params, attributes);\\n}\\n*/\\n\\nbut in IntelliJ IDEA the PHP code is still colored, so I am not sure if it works as intended.'"
      ]
     },
     "execution_count": 9,
     "metadata": {},
     "output_type": "execute_result"
    }
   ],
   "source": [
    "question.get_text().strip()"
   ]
  },
  {
   "cell_type": "code",
   "execution_count": 10,
   "metadata": {},
   "outputs": [
    {
     "name": "stdout",
     "output_type": "stream",
     "text": [
      "There is no answer for this question\n"
     ]
    }
   ],
   "source": [
    "answer = doc.find(\"div\", {\"class\": \"answer\"})\n",
    "if(answer):\n",
    "    answertext = answer.find(\"div\", {\"class\": \"s-prose js-post-body\"})\n",
    "    print(\"Best answer: \\n\", answertext.get_text().strip())\n",
    "else:\n",
    "    print(\"There is no answer for this question\")"
   ]
  },
  {
   "cell_type": "code",
   "execution_count": null,
   "metadata": {},
   "outputs": [],
   "source": []
  }
 ],
 "metadata": {
  "kernelspec": {
   "display_name": "Python 3",
   "language": "python",
   "name": "python3"
  },
  "language_info": {
   "codemirror_mode": {
    "name": "ipython",
    "version": 3
   },
   "file_extension": ".py",
   "mimetype": "text/x-python",
   "name": "python",
   "nbconvert_exporter": "python",
   "pygments_lexer": "ipython3",
   "version": "3.7.3"
  }
 },
 "nbformat": 4,
 "nbformat_minor": 2
}
